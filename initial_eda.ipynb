{
 "cells": [
  {
   "cell_type": "code",
   "execution_count": 1,
   "metadata": {
    "collapsed": true
   },
   "outputs": [],
   "source": [
    "import pandas as pd\n",
    "import numpy as np\n",
    "import matplotlib.pyplot as plt\n",
    "plt.style.use(\"ggplot\")\n",
    "%matplotlib inline"
   ]
  },
  {
   "cell_type": "code",
   "execution_count": 2,
   "metadata": {
    "collapsed": true
   },
   "outputs": [],
   "source": [
    "column_names = [\n",
    "    \"lat\", \n",
    "    \"lon\", \n",
    "    \"id\", \n",
    "    \"source_id\", \n",
    "    \"account_id\", \n",
    "    \"title\", \n",
    "    \"created_on\", \n",
    "    \"updated_on\", \n",
    "    \"start_ts\", \n",
    "    \"unitl_ts\",\n",
    "    \"report_type\",\n",
    "    \"notes\", \n",
    "    \"layer_id\",\n",
    "    \"severity\"\n",
    "]"
   ]
  },
  {
   "cell_type": "code",
   "execution_count": 112,
   "metadata": {
    "collapsed": false
   },
   "outputs": [],
   "source": [
    "df = pd.read_table(\"reports_12DEC16-26DEC16.txt\", header=None, names=column_names)"
   ]
  },
  {
   "cell_type": "code",
   "execution_count": 113,
   "metadata": {
    "collapsed": false
   },
   "outputs": [
    {
     "name": "stdout",
     "output_type": "stream",
     "text": [
      "                 lat            lon      start_ts      unitl_ts\n",
      "count  127328.000000  127328.000000  1.273270e+05  1.273270e+05\n",
      "mean       28.532422       7.615720  1.482151e+09  1.514842e+09\n",
      "std        21.930051      78.080219  3.615758e+05  2.880806e+08\n",
      "min       -90.000000    -179.966700  1.479071e+09  1.481548e+09\n",
      "25%        18.248290     -75.590556  1.481840e+09  1.482070e+09\n",
      "50%        35.000000      16.588660  1.482145e+09  1.482365e+09\n",
      "75%        41.836944      70.000000  1.482444e+09  1.482671e+09\n",
      "max        85.000000     179.416670  1.487462e+09  4.074174e+09\n"
     ]
    }
   ],
   "source": [
    "print df.describe()"
   ]
  },
  {
   "cell_type": "code",
   "execution_count": 114,
   "metadata": {
    "collapsed": false
   },
   "outputs": [
    {
     "name": "stdout",
     "output_type": "stream",
     "text": [
      "<class 'pandas.core.frame.DataFrame'>\n",
      "RangeIndex: 127328 entries, 0 to 127327\n",
      "Data columns (total 14 columns):\n",
      "lat            127328 non-null float64\n",
      "lon            127328 non-null float64\n",
      "id             127328 non-null object\n",
      "source_id      98997 non-null object\n",
      "account_id     127328 non-null object\n",
      "title          127328 non-null object\n",
      "created_on     127328 non-null object\n",
      "updated_on     127328 non-null object\n",
      "start_ts       127327 non-null float64\n",
      "unitl_ts       127327 non-null float64\n",
      "report_type    127327 non-null object\n",
      "notes          127306 non-null object\n",
      "layer_id       127322 non-null object\n",
      "severity       127327 non-null object\n",
      "dtypes: float64(4), object(10)\n",
      "memory usage: 13.6+ MB\n",
      "None\n"
     ]
    }
   ],
   "source": [
    "print df.info()"
   ]
  },
  {
   "cell_type": "code",
   "execution_count": 115,
   "metadata": {
    "collapsed": false
   },
   "outputs": [
    {
     "name": "stdout",
     "output_type": "stream",
     "text": [
      "              lat         lon                      id  \\\n",
      "127323  17.823540   80.201640  4iPRjyXM5hGbCtUN+RcZ4Q   \n",
      "127324  61.441140 -135.159450  pkNIeHDK5hGbdBXRy13KCQ   \n",
      "127325  67.269167   14.365278  4hkG2R_C5hGDQQ_Ry13KCQ   \n",
      "127326 -37.818230  144.966900  voujXITB5hGeMgnRy13KCQ   \n",
      "127327  47.305997 -122.514200  pJsC7OvK5hGScicX_zs7xg   \n",
      "\n",
      "                       source_id              account_id  \\\n",
      "127323  586176614d49f90305094db3                  GLOBAL   \n",
      "127324  585eb0e04d49f92eef486184                  GLOBAL   \n",
      "127325                    139889  2WtVbwcebkyXxPOJYCHndQ   \n",
      "127326                    139855  2WtVbwcebkyXxPOJYCHndQ   \n",
      "127327                    140407  2WtVbwcebkyXxPOJYCHndQ   \n",
      "\n",
      "                                                    title  created_on  \\\n",
      "127323                   Villagers say no to ₹1 a kg rice  1482837250   \n",
      "127324  Windsor Islamic Council condemns ISIS call to ...  1482649520   \n",
      "127325  Bodø Airport fire and rescue staff threaten st...  1481735272   \n",
      "127326  Power failure impedes train services in Melbourne  1481668491   \n",
      "127327  Ferry services disrupted between Tacoma and Va...  1482702530   \n",
      "\n",
      "        updated_on      start_ts      unitl_ts       report_type  \\\n",
      "127323  1482837238  1.482837e+09  1.483096e+09             Crime   \n",
      "127324  1482649508  1.482650e+09  1.482909e+09  Physical Threats   \n",
      "127325  1482902781  1.481846e+09  1.482192e+09        riskline_7   \n",
      "127326  1481668491  1.481587e+09  1.481933e+09        riskline_7   \n",
      "127327  1482903284  1.482624e+09  1.482970e+09        riskline_7   \n",
      "\n",
      "                                                    notes  \\\n",
      "127323  <a href='http://www.thehindu.com/news/national...   \n",
      "127324  <a href='http://windsor.ctvnews.ca/windsor-isl...   \n",
      "127325  Bodø Airport fire and rescue staff threaten st...   \n",
      "127326  Power failure impedes train services in Melbou...   \n",
      "127327  Ferry services disrupted between Tacoma and Va...   \n",
      "\n",
      "                      layer_id  severity  \n",
      "127323  ywMGL5Nyn0Wl6SZHykyNFg  moderate  \n",
      "127324  F1hXbBLQvk2En1nKKbb5LA  moderate  \n",
      "127325  7jDnFOdNEeWpOCA+2n__cA  moderate  \n",
      "127326  7jDnFOdNEeWpOCA+2n__cA  moderate  \n",
      "127327  7jDnFOdNEeWpOCA+2n__cA  moderate  \n"
     ]
    }
   ],
   "source": [
    "print df.tail()"
   ]
  },
  {
   "cell_type": "code",
   "execution_count": 4,
   "metadata": {
    "collapsed": false
   },
   "outputs": [],
   "source": [
    "location_df = df.ix[:, :2]"
   ]
  },
  {
   "cell_type": "code",
   "execution_count": 5,
   "metadata": {
    "collapsed": false
   },
   "outputs": [
    {
     "name": "stdout",
     "output_type": "stream",
     "text": [
      "<class 'pandas.core.frame.DataFrame'>\n",
      "RangeIndex: 127328 entries, 0 to 127327\n",
      "Data columns (total 2 columns):\n",
      "lat    127328 non-null float64\n",
      "lon    127328 non-null float64\n",
      "dtypes: float64(2)\n",
      "memory usage: 1.9 MB\n"
     ]
    }
   ],
   "source": [
    "location_df.info()"
   ]
  },
  {
   "cell_type": "code",
   "execution_count": 23,
   "metadata": {
    "collapsed": false
   },
   "outputs": [
    {
     "data": {
      "text/plain": [
       "<matplotlib.collections.PathCollection at 0x123658ed0>"
      ]
     },
     "execution_count": 23,
     "metadata": {},
     "output_type": "execute_result"
    },
    {
     "data": {
      "image/png": "[encoded data removed]",
      "text/plain": [
       "<matplotlib.figure.Figure at 0x122d750d0>"
      ]
     },
     "metadata": {},
     "output_type": "display_data"
    }
   ],
   "source": [
    "plt.scatter(location_df[\"lon\"], location_df[\"lat\"], alpha=0.02)\n"
   ]
  },
  {
   "cell_type": "code",
   "execution_count": null,
   "metadata": {
    "collapsed": false
   },
   "outputs": [],
   "source": []
  },
  {
   "cell_type": "code",
   "execution_count": 119,
   "metadata": {
    "collapsed": false
   },
   "outputs": [
    {
     "ename": "ValueError",
     "evalue": "year is out of range",
     "output_type": "error",
     "traceback": [
      "\u001b[0;31m---------------------------------------------------------------------------\u001b[0m",
      "\u001b[0;31mValueError\u001b[0m                                Traceback (most recent call last)",
      "\u001b[0;32m<ipython-input-119-88c0f8ea3319>\u001b[0m in \u001b[0;36m<module>\u001b[0;34m()\u001b[0m\n\u001b[1;32m      1\u001b[0m \u001b[0mts_created\u001b[0m \u001b[0;34m=\u001b[0m \u001b[0mpd\u001b[0m\u001b[0;34m.\u001b[0m\u001b[0mSeries\u001b[0m\u001b[0;34m(\u001b[0m\u001b[0mnp\u001b[0m\u001b[0;34m.\u001b[0m\u001b[0mones\u001b[0m\u001b[0;34m(\u001b[0m\u001b[0mlen\u001b[0m\u001b[0;34m(\u001b[0m\u001b[0mdf\u001b[0m\u001b[0;34m)\u001b[0m\u001b[0;34m)\u001b[0m\u001b[0;34m)\u001b[0m\u001b[0;34m\u001b[0m\u001b[0m\n\u001b[0;32m----> 2\u001b[0;31m \u001b[0mts_created\u001b[0m \u001b[0;34m=\u001b[0m \u001b[0mts_start\u001b[0m\u001b[0;34m.\u001b[0m\u001b[0mreindex\u001b[0m\u001b[0;34m(\u001b[0m\u001b[0mpd\u001b[0m\u001b[0;34m.\u001b[0m\u001b[0mto_datetime\u001b[0m\u001b[0;34m(\u001b[0m\u001b[0mdf\u001b[0m\u001b[0;34m[\u001b[0m\u001b[0;34m\"created_on\"\u001b[0m\u001b[0;34m]\u001b[0m\u001b[0;34m)\u001b[0m\u001b[0;34m,\u001b[0m \u001b[0mfill_value\u001b[0m\u001b[0;34m=\u001b[0m\u001b[0;36m1\u001b[0m\u001b[0;34m)\u001b[0m\u001b[0;34m\u001b[0m\u001b[0m\n\u001b[0m",
      "\u001b[0;32m/Users/brendandorsey/anaconda2/lib/python2.7/site-packages/pandas/util/decorators.pyc\u001b[0m in \u001b[0;36mwrapper\u001b[0;34m(*args, **kwargs)\u001b[0m\n\u001b[1;32m     89\u001b[0m                 \u001b[0;32melse\u001b[0m\u001b[0;34m:\u001b[0m\u001b[0;34m\u001b[0m\u001b[0m\n\u001b[1;32m     90\u001b[0m                     \u001b[0mkwargs\u001b[0m\u001b[0;34m[\u001b[0m\u001b[0mnew_arg_name\u001b[0m\u001b[0;34m]\u001b[0m \u001b[0;34m=\u001b[0m \u001b[0mnew_arg_value\u001b[0m\u001b[0;34m\u001b[0m\u001b[0m\n\u001b[0;32m---> 91\u001b[0;31m             \u001b[0;32mreturn\u001b[0m \u001b[0mfunc\u001b[0m\u001b[0;34m(\u001b[0m\u001b[0;34m*\u001b[0m\u001b[0margs\u001b[0m\u001b[0;34m,\u001b[0m \u001b[0;34m**\u001b[0m\u001b[0mkwargs\u001b[0m\u001b[0;34m)\u001b[0m\u001b[0;34m\u001b[0m\u001b[0m\n\u001b[0m\u001b[1;32m     92\u001b[0m         \u001b[0;32mreturn\u001b[0m \u001b[0mwrapper\u001b[0m\u001b[0;34m\u001b[0m\u001b[0m\n\u001b[1;32m     93\u001b[0m     \u001b[0;32mreturn\u001b[0m \u001b[0m_deprecate_kwarg\u001b[0m\u001b[0;34m\u001b[0m\u001b[0m\n",
      "\u001b[0;32m/Users/brendandorsey/anaconda2/lib/python2.7/site-packages/pandas/tseries/tools.pyc\u001b[0m in \u001b[0;36mto_datetime\u001b[0;34m(arg, errors, dayfirst, yearfirst, utc, box, format, exact, coerce, unit, infer_datetime_format)\u001b[0m\n\u001b[1;32m    285\u001b[0m                         \u001b[0myearfirst\u001b[0m\u001b[0;34m=\u001b[0m\u001b[0myearfirst\u001b[0m\u001b[0;34m,\u001b[0m\u001b[0;34m\u001b[0m\u001b[0m\n\u001b[1;32m    286\u001b[0m                         \u001b[0mutc\u001b[0m\u001b[0;34m=\u001b[0m\u001b[0mutc\u001b[0m\u001b[0;34m,\u001b[0m \u001b[0mbox\u001b[0m\u001b[0;34m=\u001b[0m\u001b[0mbox\u001b[0m\u001b[0;34m,\u001b[0m \u001b[0mformat\u001b[0m\u001b[0;34m=\u001b[0m\u001b[0mformat\u001b[0m\u001b[0;34m,\u001b[0m \u001b[0mexact\u001b[0m\u001b[0;34m=\u001b[0m\u001b[0mexact\u001b[0m\u001b[0;34m,\u001b[0m\u001b[0;34m\u001b[0m\u001b[0m\n\u001b[0;32m--> 287\u001b[0;31m                         unit=unit, infer_datetime_format=infer_datetime_format)\n\u001b[0m\u001b[1;32m    288\u001b[0m \u001b[0;34m\u001b[0m\u001b[0m\n\u001b[1;32m    289\u001b[0m \u001b[0;34m\u001b[0m\u001b[0m\n",
      "\u001b[0;32m/Users/brendandorsey/anaconda2/lib/python2.7/site-packages/pandas/tseries/tools.pyc\u001b[0m in \u001b[0;36m_to_datetime\u001b[0;34m(arg, errors, dayfirst, yearfirst, utc, box, format, exact, unit, freq, infer_datetime_format)\u001b[0m\n\u001b[1;32m    407\u001b[0m         \u001b[0;32mreturn\u001b[0m \u001b[0marg\u001b[0m\u001b[0;34m\u001b[0m\u001b[0m\n\u001b[1;32m    408\u001b[0m     \u001b[0;32melif\u001b[0m \u001b[0misinstance\u001b[0m\u001b[0;34m(\u001b[0m\u001b[0marg\u001b[0m\u001b[0;34m,\u001b[0m \u001b[0mSeries\u001b[0m\u001b[0;34m)\u001b[0m\u001b[0;34m:\u001b[0m\u001b[0;34m\u001b[0m\u001b[0m\n\u001b[0;32m--> 409\u001b[0;31m         \u001b[0mvalues\u001b[0m \u001b[0;34m=\u001b[0m \u001b[0m_convert_listlike\u001b[0m\u001b[0;34m(\u001b[0m\u001b[0marg\u001b[0m\u001b[0;34m.\u001b[0m\u001b[0m_values\u001b[0m\u001b[0;34m,\u001b[0m \u001b[0mFalse\u001b[0m\u001b[0;34m,\u001b[0m \u001b[0mformat\u001b[0m\u001b[0;34m)\u001b[0m\u001b[0;34m\u001b[0m\u001b[0m\n\u001b[0m\u001b[1;32m    410\u001b[0m         \u001b[0;32mreturn\u001b[0m \u001b[0mSeries\u001b[0m\u001b[0;34m(\u001b[0m\u001b[0mvalues\u001b[0m\u001b[0;34m,\u001b[0m \u001b[0mindex\u001b[0m\u001b[0;34m=\u001b[0m\u001b[0marg\u001b[0m\u001b[0;34m.\u001b[0m\u001b[0mindex\u001b[0m\u001b[0;34m,\u001b[0m \u001b[0mname\u001b[0m\u001b[0;34m=\u001b[0m\u001b[0marg\u001b[0m\u001b[0;34m.\u001b[0m\u001b[0mname\u001b[0m\u001b[0;34m)\u001b[0m\u001b[0;34m\u001b[0m\u001b[0m\n\u001b[1;32m    411\u001b[0m     \u001b[0;32melif\u001b[0m \u001b[0misinstance\u001b[0m\u001b[0;34m(\u001b[0m\u001b[0marg\u001b[0m\u001b[0;34m,\u001b[0m \u001b[0mABCIndexClass\u001b[0m\u001b[0;34m)\u001b[0m\u001b[0;34m:\u001b[0m\u001b[0;34m\u001b[0m\u001b[0m\n",
      "\u001b[0;32m/Users/brendandorsey/anaconda2/lib/python2.7/site-packages/pandas/tseries/tools.pyc\u001b[0m in \u001b[0;36m_convert_listlike\u001b[0;34m(arg, box, format, name)\u001b[0m\n\u001b[1;32m    400\u001b[0m                 \u001b[0;32mreturn\u001b[0m \u001b[0mDatetimeIndex\u001b[0m\u001b[0;34m.\u001b[0m\u001b[0m_simple_new\u001b[0m\u001b[0;34m(\u001b[0m\u001b[0mvalues\u001b[0m\u001b[0;34m,\u001b[0m \u001b[0mname\u001b[0m\u001b[0;34m=\u001b[0m\u001b[0mname\u001b[0m\u001b[0;34m,\u001b[0m \u001b[0mtz\u001b[0m\u001b[0;34m=\u001b[0m\u001b[0mtz\u001b[0m\u001b[0;34m)\u001b[0m\u001b[0;34m\u001b[0m\u001b[0m\n\u001b[1;32m    401\u001b[0m             \u001b[0;32mexcept\u001b[0m \u001b[0;34m(\u001b[0m\u001b[0mValueError\u001b[0m\u001b[0;34m,\u001b[0m \u001b[0mTypeError\u001b[0m\u001b[0;34m)\u001b[0m\u001b[0;34m:\u001b[0m\u001b[0;34m\u001b[0m\u001b[0m\n\u001b[0;32m--> 402\u001b[0;31m                 \u001b[0;32mraise\u001b[0m \u001b[0me\u001b[0m\u001b[0;34m\u001b[0m\u001b[0m\n\u001b[0m\u001b[1;32m    403\u001b[0m \u001b[0;34m\u001b[0m\u001b[0m\n\u001b[1;32m    404\u001b[0m     \u001b[0;32mif\u001b[0m \u001b[0marg\u001b[0m \u001b[0;32mis\u001b[0m \u001b[0mNone\u001b[0m\u001b[0;34m:\u001b[0m\u001b[0;34m\u001b[0m\u001b[0m\n",
      "\u001b[0;31mValueError\u001b[0m: year is out of range"
     ]
    }
   ],
   "source": [
    "ts_created = pd.Series(np.ones(len(df)))\n",
    "ts_created = ts_start.reindex(pd.to_datetime(df[\"until_ts\"]), fill_value=1)\n"
   ]
  },
  {
   "cell_type": "code",
   "execution_count": 118,
   "metadata": {
    "collapsed": false
   },
   "outputs": [
    {
     "name": "stdout",
     "output_type": "stream",
     "text": [
      "0    1.0\n",
      "1    1.0\n",
      "2    1.0\n",
      "3    1.0\n",
      "4    1.0\n",
      "dtype: float64\n",
      "127328\n",
      "127328.0\n"
     ]
    }
   ],
   "source": [
    "print ts_created.head()\n",
    "print len(ts_created)\n",
    "print np.sum(ts_created)"
   ]
  },
  {
   "cell_type": "code",
   "execution_count": 107,
   "metadata": {
    "collapsed": false
   },
   "outputs": [],
   "source": [
    "ts_created = ts_created.resample(\"a\").sum()"
   ]
  },
  {
   "cell_type": "code",
   "execution_count": 110,
   "metadata": {
    "collapsed": false
   },
   "outputs": [
    {
     "name": "stdout",
     "output_type": "stream",
     "text": [
      "start_ts\n",
      "1970-12-31         1.0\n",
      "1971-12-31         NaN\n",
      "1972-12-31         NaN\n",
      "1973-12-31         NaN\n",
      "1974-12-31         NaN\n",
      "1975-12-31         NaN\n",
      "1976-12-31         NaN\n",
      "1977-12-31         NaN\n",
      "1978-12-31         NaN\n",
      "1979-12-31         NaN\n",
      "1980-12-31         NaN\n",
      "1981-12-31         NaN\n",
      "1982-12-31         NaN\n",
      "1983-12-31         NaN\n",
      "1984-12-31         NaN\n",
      "1985-12-31         NaN\n",
      "1986-12-31         NaN\n",
      "1987-12-31         NaN\n",
      "1988-12-31         NaN\n",
      "1989-12-31         NaN\n",
      "1990-12-31         NaN\n",
      "1991-12-31         NaN\n",
      "1992-12-31         NaN\n",
      "1993-12-31         NaN\n",
      "1994-12-31         NaN\n",
      "1995-12-31         NaN\n",
      "1996-12-31         NaN\n",
      "1997-12-31         NaN\n",
      "1998-12-31         NaN\n",
      "1999-12-31         NaN\n",
      "2000-12-31         NaN\n",
      "2001-12-31         NaN\n",
      "2002-12-31         NaN\n",
      "2003-12-31         NaN\n",
      "2004-12-31         NaN\n",
      "2005-12-31         NaN\n",
      "2006-12-31         NaN\n",
      "2007-12-31         NaN\n",
      "2008-12-31         NaN\n",
      "2009-12-31         NaN\n",
      "2010-12-31         NaN\n",
      "2011-12-31         NaN\n",
      "2012-12-31         NaN\n",
      "2013-12-31         NaN\n",
      "2014-12-31         NaN\n",
      "2015-12-31         NaN\n",
      "2016-12-31    127320.0\n",
      "2017-12-31         7.0\n",
      "dtype: float64\n",
      "48\n",
      "127328.0\n"
     ]
    }
   ],
   "source": [
    "print ts_created\n",
    "print len(ts_created)\n",
    "print np.sum(ts_created)"
   ]
  },
  {
   "cell_type": "code",
   "execution_count": 109,
   "metadata": {
    "collapsed": false
   },
   "outputs": [
    {
     "data": {
      "text/plain": [
       "[<matplotlib.lines.Line2D at 0x128726110>]"
      ]
     },
     "execution_count": 109,
     "metadata": {},
     "output_type": "execute_result"
    },
    {
     "data": {
      "image/png": "[encoded data removed]",
      "text/plain": [
       "<matplotlib.figure.Figure at 0x133a06810>"
      ]
     },
     "metadata": {},
     "output_type": "display_data"
    }
   ],
   "source": [
    "plt.plot(ts_created)"
   ]
  },
  {
   "cell_type": "code",
   "execution_count": null,
   "metadata": {
    "collapsed": true
   },
   "outputs": [],
   "source": []
  }
 ],
 "metadata": {
  "kernelspec": {
   "display_name": "Python 2",
   "language": "python",
   "name": "python2"
  },
  "language_info": {
   "codemirror_mode": {
    "name": "ipython",
    "version": 2
   },
   "file_extension": ".py",
   "mimetype": "text/x-python",
   "name": "python",
   "nbconvert_exporter": "python",
   "pygments_lexer": "ipython2",
   "version": "2.7.13"
  }
 },
 "nbformat": 4,
 "nbformat_minor": 0
}
