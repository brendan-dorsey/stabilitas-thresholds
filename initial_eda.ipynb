{
 "cells": [
  {
   "cell_type": "code",
   "execution_count": 13,
   "metadata": {
    "collapsed": true
   },
   "outputs": [],
   "source": [
    "import pandas as pd\n",
    "import numpy as np\n",
    "import matplotlib.pyplot as plt\n",
    "plt.style.use(\"ggplot\")\n",
    "%matplotlib inline"
   ]
  },
  {
   "cell_type": "code",
   "execution_count": null,
   "metadata": {
    "collapsed": true
   },
   "outputs": [],
   "source": [
    "column_names = [\n",
    "    \"lat\", \n",
    "    \"lon\", \n",
    "    \"id\", \n",
    "    \"source_id\", \n",
    "    \"account_id\", \n",
    "    \"title\", \n",
    "    \"created_on\", \n",
    "    \"updated_on\", \n",
    "    \"start_ts\", \n",
    "    \"unitl_ts\",\n",
    "    \"report_type\",\n",
    "    \"notes\", \n",
    "    \"layer_id\",\n",
    "    \"severity\"\n",
    "]"
   ]
  },
  {
   "cell_type": "code",
   "execution_count": 14,
   "metadata": {
    "collapsed": false
   },
   "outputs": [],
   "source": [
    "df = pd.read_table(\"reports_12DEC16-26DEC16.txt\", header=None, names=column_names)"
   ]
  },
  {
   "cell_type": "code",
   "execution_count": 15,
   "metadata": {
    "collapsed": false
   },
   "outputs": [
    {
     "name": "stdout",
     "output_type": "stream",
     "text": [
      "                 lat            lon      start_ts      unitl_ts\n",
      "count  127328.000000  127328.000000  1.273270e+05  1.273270e+05\n",
      "mean       28.532422       7.615720  1.482151e+09  1.514842e+09\n",
      "std        21.930051      78.080219  3.615758e+05  2.880806e+08\n",
      "min       -90.000000    -179.966700  1.479071e+09  1.481548e+09\n",
      "25%        18.248290     -75.590556  1.481840e+09  1.482070e+09\n",
      "50%        35.000000      16.588660  1.482145e+09  1.482365e+09\n",
      "75%        41.836944      70.000000  1.482444e+09  1.482671e+09\n",
      "max        85.000000     179.416670  1.487462e+09  4.074174e+09\n"
     ]
    }
   ],
   "source": [
    "print df.describe()"
   ]
  },
  {
   "cell_type": "code",
   "execution_count": 16,
   "metadata": {
    "collapsed": false
   },
   "outputs": [
    {
     "name": "stdout",
     "output_type": "stream",
     "text": [
      "<class 'pandas.core.frame.DataFrame'>\n",
      "RangeIndex: 127328 entries, 0 to 127327\n",
      "Data columns (total 14 columns):\n",
      "lat            127328 non-null float64\n",
      "lon            127328 non-null float64\n",
      "id             127328 non-null object\n",
      "source_id      98997 non-null object\n",
      "account_id     127328 non-null object\n",
      "title          127328 non-null object\n",
      "created_on     127328 non-null object\n",
      "updated_on     127328 non-null object\n",
      "start_ts       127327 non-null float64\n",
      "unitl_ts       127327 non-null float64\n",
      "report_type    127327 non-null object\n",
      "notes          127306 non-null object\n",
      "layer_id       127322 non-null object\n",
      "severity       127327 non-null object\n",
      "dtypes: float64(4), object(10)\n",
      "memory usage: 13.6+ MB\n",
      "None\n"
     ]
    }
   ],
   "source": [
    "print df.info()"
   ]
  },
  {
   "cell_type": "code",
   "execution_count": 21,
   "metadata": {
    "collapsed": false
   },
   "outputs": [],
   "source": [
    "location_df = df.ix[:, :2]"
   ]
  },
  {
   "cell_type": "code",
   "execution_count": 22,
   "metadata": {
    "collapsed": false
   },
   "outputs": [
    {
     "name": "stdout",
     "output_type": "stream",
     "text": [
      "<class 'pandas.core.frame.DataFrame'>\n",
      "RangeIndex: 127328 entries, 0 to 127327\n",
      "Data columns (total 2 columns):\n",
      "lat    127328 non-null float64\n",
      "lon    127328 non-null float64\n",
      "dtypes: float64(2)\n",
      "memory usage: 1.9 MB\n"
     ]
    }
   ],
   "source": [
    "location_df.info()"
   ]
  },
  {
   "cell_type": "code",
   "execution_count": null,
   "metadata": {
    "collapsed": false
   },
   "outputs": [],
   "source": [
    "# plt.scatter(location_df[\"lat\"], location_df[\"lon\"])\n",
    "# plt.show()"
   ]
  },
  {
   "cell_type": "code",
   "execution_count": null,
   "metadata": {
    "collapsed": true
   },
   "outputs": [],
   "source": []
  }
 ],
 "metadata": {
  "kernelspec": {
   "display_name": "Python 2",
   "language": "python",
   "name": "python2"
  },
  "language_info": {
   "codemirror_mode": {
    "name": "ipython",
    "version": 2
   },
   "file_extension": ".py",
   "mimetype": "text/x-python",
   "name": "python",
   "nbconvert_exporter": "python",
   "pygments_lexer": "ipython2",
   "version": "2.7.13"
  }
 },
 "nbformat": 4,
 "nbformat_minor": 0
}
