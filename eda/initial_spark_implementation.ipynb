{
 "cells": [
  {
   "cell_type": "markdown",
   "metadata": {},
   "source": [
    "# Initial PySpark Implementation"
   ]
  },
  {
   "cell_type": "markdown",
   "metadata": {},
   "source": [
    "### Imports"
   ]
  },
  {
   "cell_type": "code",
   "execution_count": 47,
   "metadata": {
    "ExecuteTime": {
     "end_time": "2017-06-29T10:19:27.928382Z",
     "start_time": "2017-06-29T10:19:27.892558Z"
    },
    "collapsed": false
   },
   "outputs": [],
   "source": [
    "import py\n",
    "import pandas as pd\n",
    "import numpy as np\n",
    "import matplotlib.pyplot as plt\n",
    "plt.style.use(\"ggplot\")\n",
    "%matplotlib inline\n",
    "from sklearn.cluster import KMeans\n",
    "from sklearn.metrics import silhouette_score\n",
    "from sklearn.model_selection import train_test_split\n",
    "from haversine import haversine\n",
    "from itertools import izip\n",
    "import pyspark as ps\n",
    "from pyspark.sql.types import *\n",
    "from pyspark.sql.types import StructType\n",
    "\n"
   ]
  },
  {
   "cell_type": "markdown",
   "metadata": {},
   "source": [
    "### Spark Session and Initial Variables"
   ]
  },
  {
   "cell_type": "code",
   "execution_count": 87,
   "metadata": {
    "ExecuteTime": {
     "end_time": "2017-06-29T10:35:57.674890Z",
     "start_time": "2017-06-29T10:35:57.637164Z"
    },
    "collapsed": false
   },
   "outputs": [],
   "source": [
    "spark = pyspark.sql.SparkSession.builder.master(\"local[4]\").appName(\"Spark_EDA\").getOrCreate()\n",
    "sc = spark.sparkContext"
   ]
  },
  {
   "cell_type": "code",
   "execution_count": 144,
   "metadata": {
    "ExecuteTime": {
     "end_time": "2017-06-29T11:52:47.477288Z",
     "start_time": "2017-06-29T11:52:47.437392Z"
    },
    "collapsed": false
   },
   "outputs": [],
   "source": [
    "schema = StructType([\n",
    "    StructField(\"lat\", FloatType(), True),\n",
    "    StructField(\"lon\", FloatType(), True),\n",
    "    StructField(\"id\", StringType(), True),\n",
    "    StructField(\"source_id\", StringType(), True),\n",
    "    StructField(\"account_id\", StringType(), True),\n",
    "    StructField(\"title\", StringType(), True),\n",
    "    StructField(\"created_on\", IntegerType(), True),\n",
    "    StructField(\"updated_on\", StringType(), True),\n",
    "    StructField(\"start_ts\", IntegerType(), True),\n",
    "    StructField(\"until_ts\", StringType(), True),\n",
    "    StructField(\"report_type\", StringType(), True),\n",
    "    StructField(\"notes\", StringType(), True),\n",
    "    StructField(\"layer_id\", StringType(), True),\n",
    "    StructField(\"severity\", StringType(), True)\n",
    "])\n",
    "\n",
    "target_columns = [\n",
    "    \"lat\",\n",
    "    \"lon\",\n",
    "    \"id\",\n",
    "    \"title\",\n",
    "    \"created_on\",\n",
    "    \"start_ts\",\n",
    "    \"report_type\",\n",
    "    \"severity\"\n",
    "]"
   ]
  },
  {
   "cell_type": "markdown",
   "metadata": {
    "ExecuteTime": {
     "end_time": "2017-06-29T10:42:15.175259Z",
     "start_time": "2017-06-29T10:42:15.143585Z"
    }
   },
   "source": [
    "### Shell command to clean quoted newlines\n",
    "\n",
    "awk -v RS='\"' 'NR % 2 == 0 { gsub(/\\n/, \" \") } { printf(\"%s%s\", $0, RT) }' input_file > output_file"
   ]
  },
  {
   "cell_type": "code",
   "execution_count": 145,
   "metadata": {
    "ExecuteTime": {
     "end_time": "2017-06-29T11:52:48.167943Z",
     "start_time": "2017-06-29T11:52:48.138467Z"
    },
    "collapsed": true
   },
   "outputs": [],
   "source": [
    "data_filepath = \"data/reports_12DEC16-26DEC16.tsv\""
   ]
  },
  {
   "cell_type": "markdown",
   "metadata": {},
   "source": [
    "### Load Data"
   ]
  },
  {
   "cell_type": "code",
   "execution_count": 146,
   "metadata": {
    "ExecuteTime": {
     "end_time": "2017-06-29T11:52:48.955939Z",
     "start_time": "2017-06-29T11:52:48.887733Z"
    },
    "collapsed": false
   },
   "outputs": [],
   "source": [
    "# Load Data\n",
    "reports_df = spark.read.csv(data_filepath,\n",
    "                         sep=\"\\t\",\n",
    "                         schema=schema,\n",
    "                         header=None,\n",
    "                         quote='\"')\n",
    "\n",
    "# Drop Nulls - will revisit\n",
    "reports_df = data_df.dropna()\n",
    "\n",
    "# Keep only target columns\n",
    "reports_df = data_df.select([column for column in target_columns])\n",
    "\n",
    "# Create Lat/Long columns\n",
    "\n",
    "# Create Severity Features columns\n",
    "\n",
    "# Convert Timestamps to date time groups\n",
    "\n",
    "\n"
   ]
  },
  {
   "cell_type": "code",
   "execution_count": 147,
   "metadata": {
    "ExecuteTime": {
     "end_time": "2017-06-29T11:52:49.613715Z",
     "start_time": "2017-06-29T11:52:49.537579Z"
    },
    "collapsed": false
   },
   "outputs": [
    {
     "name": "stdout",
     "output_type": "stream",
     "text": [
      "root\n",
      " |-- lat: float (nullable = true)\n",
      " |-- lon: float (nullable = true)\n",
      " |-- id: string (nullable = true)\n",
      " |-- title: string (nullable = true)\n",
      " |-- created_on: integer (nullable = true)\n",
      " |-- start_ts: integer (nullable = true)\n",
      " |-- report_type: string (nullable = true)\n",
      " |-- severity: string (nullable = true)\n",
      "\n"
     ]
    },
    {
     "data": {
      "text/plain": [
       "[Row(lat=37.98381042480469, lon=23.7275390625, id=u'KFg4bXSq5hGyhPkeGX1vrg', title=u'Security Message for U.S. Citizens: Athens (Greece), Planned Demonstration on November 14', created_on=1481760000, start_ts=1479132770, report_type=u'OSAC', severity=u'unrated')]"
      ]
     },
     "execution_count": 147,
     "metadata": {},
     "output_type": "execute_result"
    }
   ],
   "source": [
    "reports_df.printSchema()\n",
    "reports_df.take(1)"
   ]
  },
  {
   "cell_type": "markdown",
   "metadata": {},
   "source": [
    "## Label Reports with Cities"
   ]
  },
  {
   "cell_type": "markdown",
   "metadata": {},
   "source": [
    "### Load Cities Data and Build Lat/Long Column"
   ]
  },
  {
   "cell_type": "code",
   "execution_count": null,
   "metadata": {
    "collapsed": true
   },
   "outputs": [],
   "source": []
  },
  {
   "cell_type": "markdown",
   "metadata": {},
   "source": [
    "### Calculate Haversine Distances"
   ]
  },
  {
   "cell_type": "code",
   "execution_count": null,
   "metadata": {
    "collapsed": true
   },
   "outputs": [],
   "source": []
  },
  {
   "cell_type": "markdown",
   "metadata": {},
   "source": [
    "### Apply City Labels"
   ]
  },
  {
   "cell_type": "code",
   "execution_count": null,
   "metadata": {
    "collapsed": true
   },
   "outputs": [],
   "source": []
  },
  {
   "cell_type": "markdown",
   "metadata": {},
   "source": [
    "## Time Series Analysis\n",
    "\n",
    "Show several cities, then Berlin\n"
   ]
  },
  {
   "cell_type": "code",
   "execution_count": null,
   "metadata": {
    "collapsed": true
   },
   "outputs": [],
   "source": []
  },
  {
   "cell_type": "markdown",
   "metadata": {},
   "source": [
    "## Conclusions"
   ]
  },
  {
   "cell_type": "code",
   "execution_count": null,
   "metadata": {
    "collapsed": true
   },
   "outputs": [],
   "source": []
  },
  {
   "cell_type": "code",
   "execution_count": null,
   "metadata": {
    "collapsed": true
   },
   "outputs": [],
   "source": []
  }
 ],
 "metadata": {
  "kernelspec": {
   "display_name": "Python 2",
   "language": "python",
   "name": "python2"
  },
  "language_info": {
   "codemirror_mode": {
    "name": "ipython",
    "version": 2
   },
   "file_extension": ".py",
   "mimetype": "text/x-python",
   "name": "python",
   "nbconvert_exporter": "python",
   "pygments_lexer": "ipython2",
   "version": "2.7.13"
  }
 },
 "nbformat": 4,
 "nbformat_minor": 0
}
