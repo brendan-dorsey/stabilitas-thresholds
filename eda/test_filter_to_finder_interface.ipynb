{
 "cells": [
  {
   "cell_type": "code",
   "execution_count": 3,
   "metadata": {
    "ExecuteTime": {
     "end_time": "2017-07-02T13:47:36.283222Z",
     "start_time": "2017-07-02T13:47:36.237940Z"
    },
    "collapsed": true
   },
   "outputs": [],
   "source": [
    "import numpy as np\n",
    "import pandas as pd\n",
    "import matplotlib.pyplot as plt\n",
    "plt.style.use(\"ggplot\")\n",
    "%matplotlib inline"
   ]
  },
  {
   "cell_type": "code",
   "execution_count": 4,
   "metadata": {
    "ExecuteTime": {
     "end_time": "2017-07-02T13:47:36.563908Z",
     "start_time": "2017-07-02T13:47:36.536751Z"
    },
    "collapsed": true
   },
   "outputs": [],
   "source": [
    "columns = [\n",
    "    \"lat\",\n",
    "    \"lon\",\n",
    "    \"id\",\n",
    "    \"title\",\n",
    "    \"start_ts\",\n",
    "    \"report_type\",\n",
    "    \"severity\",\n",
    "    \"lat_long\",\n",
    "    \"severity_score\",\n",
    "    \"city\",\n",
    "    \"anomalous\"\n",
    "]"
   ]
  },
  {
   "cell_type": "code",
   "execution_count": 6,
   "metadata": {
    "ExecuteTime": {
     "end_time": "2017-07-02T13:47:46.369766Z",
     "start_time": "2017-07-02T13:47:46.288885Z"
    },
    "collapsed": false,
    "scrolled": true
   },
   "outputs": [
    {
     "name": "stdout",
     "output_type": "stream",
     "text": [
      "         lat        lon                      id  \\\n",
      "69  41.85003  -87.65005  4EMFcGPA5hGB_BzRy13KCQ   \n",
      "70  11.84692   13.15712  XKS_N2TA5hGCYRvRy13KCQ   \n",
      "71  34.39256 -100.89764  HMhll2vA5hGLHhzRy13KCQ   \n",
      "72  28.03947  -81.94980  oGHIvGvA5hGzBBzRy13KCQ   \n",
      "75  33.84918 -118.38841  _o_p3GvA5hGlnqICZNc2RA   \n",
      "\n",
      "                                                title             start_ts  \\\n",
      "69  Snow, Frigid Temperatures Hit Much of Northern...  2016-12-12 12:06:39   \n",
      "70  Girls 'aged 7 or 8' stage suicide attack in Ni...  2016-12-12 12:12:14   \n",
      "71  Turkish citizens in Berlin protest PKK terror ...  2016-12-12 13:05:01   \n",
      "72  Drane Field Road Closed In Lakeland Due Traffi...  2016-12-12 13:06:04   \n",
      "75  Police Say Suspect Wounded In Shooting In San ...  2016-12-12 13:06:58   \n",
      "\n",
      "         report_type  severity                                   lat_long  \\\n",
      "69             Other  moderate  (41.850029999999997, -87.650049999999993)   \n",
      "70  Physical Threats      high   (11.846919999999999, 13.157120000000001)   \n",
      "71  Physical Threats  moderate           (34.392559999999996, -100.89764)   \n",
      "72    Infrastructure  moderate  (28.039470000000001, -81.949799999999996)   \n",
      "75  Physical Threats  moderate  (33.849179999999997, -118.38841000000001)   \n",
      "\n",
      "    severity_score           city  anomalous  \n",
      "69               4        Chicago        1.0  \n",
      "70              16      Maiduguri        1.0  \n",
      "71               4  Oklahoma City        1.0  \n",
      "72               4          Tampa        1.0  \n",
      "75               4     Long Beach        1.0  \n"
     ]
    }
   ],
   "source": [
    "df = pd.read_csv(\"../data/flagged_reports.csv\", header=None)\n",
    "df = df.drop(0, axis=1)\n",
    "df.columns = columns\n",
    "df = df.sort_values(\"start_ts\")\n",
    "print df.head()"
   ]
  },
  {
   "cell_type": "code",
   "execution_count": 7,
   "metadata": {
    "ExecuteTime": {
     "end_time": "2017-07-02T13:47:49.631206Z",
     "start_time": "2017-07-02T13:47:49.588876Z"
    },
    "collapsed": false
   },
   "outputs": [
    {
     "name": "stdout",
     "output_type": "stream",
     "text": [
      "<class 'pandas.core.frame.DataFrame'>\n",
      "Index: 565 entries, 2016-12-15 09:05:42 to 2016-12-24 19:05:57\n",
      "Data columns (total 10 columns):\n",
      "lat               565 non-null float64\n",
      "lon               565 non-null float64\n",
      "id                565 non-null object\n",
      "title             565 non-null object\n",
      "report_type       565 non-null object\n",
      "severity          565 non-null object\n",
      "lat_long          565 non-null object\n",
      "severity_score    565 non-null int64\n",
      "city              565 non-null object\n",
      "anomalous         565 non-null float64\n",
      "dtypes: float64(3), int64(1), object(6)\n",
      "memory usage: 48.6+ KB\n",
      "None\n",
      "                           lat       lon                      id  \\\n",
      "start_ts                                                           \n",
      "2016-12-15 09:05:42  52.524370  13.41053  ivw0qKXC5hGSewfRy13KCQ   \n",
      "2016-12-19 00:00:00  52.504884  13.33537  FKem1TLG5hGUxTPRy13KCQ   \n",
      "2016-12-19 00:00:00  52.504884  13.33537  Dvc79yzG5hGrfkcO+RcZ4Q   \n",
      "2016-12-19 00:00:00  52.504884  13.33537  cipqGSfG5hGFwUMO+RcZ4Q   \n",
      "2016-12-19 00:00:00  52.504884  13.33537  _gSSNSLG5hGloijRy13KCQ   \n",
      "\n",
      "                                                                 title  \\\n",
      "start_ts                                                                 \n",
      "2016-12-15 09:05:42  European Council Likely to Extend Anti-Russian...   \n",
      "2016-12-19 00:00:00  Police confirm further details on fatal lorry ...   \n",
      "2016-12-19 00:00:00  Police detain driver following fatal lorry cra...   \n",
      "2016-12-19 00:00:00    Lorry crash in Berlin likely an attack - Update   \n",
      "2016-12-19 00:00:00      Truck crashes into Christmas market in Berlin   \n",
      "\n",
      "                    report_type  severity  \\\n",
      "start_ts                                    \n",
      "2016-12-15 09:05:42       Crime  moderate   \n",
      "2016-12-19 00:00:00  riskline_2    medium   \n",
      "2016-12-19 00:00:00  riskline_2    medium   \n",
      "2016-12-19 00:00:00  riskline_2    medium   \n",
      "2016-12-19 00:00:00  riskline_7    medium   \n",
      "\n",
      "                                                     lat_long  severity_score  \\\n",
      "start_ts                                                                        \n",
      "2016-12-15 09:05:42            (52.524369999999998, 13.41053)               4   \n",
      "2016-12-19 00:00:00  (52.504884400000002, 13.335370000000001)               9   \n",
      "2016-12-19 00:00:00  (52.504884400000002, 13.335370000000001)               9   \n",
      "2016-12-19 00:00:00  (52.504884400000002, 13.335370000000001)               9   \n",
      "2016-12-19 00:00:00  (52.504884400000002, 13.335370000000001)               9   \n",
      "\n",
      "                       city  anomalous  \n",
      "start_ts                                \n",
      "2016-12-15 09:05:42  Berlin        1.0  \n",
      "2016-12-19 00:00:00  Berlin        1.0  \n",
      "2016-12-19 00:00:00  Berlin        1.0  \n",
      "2016-12-19 00:00:00  Berlin        1.0  \n",
      "2016-12-19 00:00:00  Berlin        1.0  \n"
     ]
    }
   ],
   "source": [
    "berlin_df = df[df[\"city\"] == \"Berlin\"]\n",
    "berlin_df = berlin_df.set_index(\"start_ts\")\n",
    "print berlin_df.info()\n",
    "print berlin_df.head(5)"
   ]
  },
  {
   "cell_type": "code",
   "execution_count": 9,
   "metadata": {
    "ExecuteTime": {
     "end_time": "2017-07-02T13:48:34.623254Z",
     "start_time": "2017-07-02T13:48:34.588193Z"
    },
    "collapsed": true
   },
   "outputs": [],
   "source": [
    "def plot_cutoffs_to_critical_reports(ax, city, df, cutoffs=xrange(1, 101)):\n",
    "    city_df = df[df[\"city\"] == city]\n",
    "    city_df = city_df.set_index(\"start_ts\")\n",
    "    next_day = pd.Timedelta(days=1)\n",
    "    num_critical = []\n",
    "    for cutoff in cutoffs:\n",
    "        lst = []\n",
    "        for row in city_df.iterrows():\n",
    "            report_time = pd.to_datetime(row[0])\n",
    "            stop_time = min(report_time+next_day, pd.to_datetime(max(berlin_df.index)))\n",
    "            future_reports = city_df[str(report_time):str(stop_time)]\n",
    "            if len(future_reports) >= cutoff:\n",
    "                lst.append(1)\n",
    "\n",
    "        num_critical.append(sum(lst))\n",
    "\n",
    "    ax.plot(cutoffs, num_critical)\n",
    "    ax.set_xlabel(\"Cutoff\")\n",
    "    ax.set_ylabel(\"Num Critical\")\n",
    "    ax.set_title(city_df.iloc[0,-2])\n",
    "    "
   ]
  },
  {
   "cell_type": "code",
   "execution_count": null,
   "metadata": {
    "ExecuteTime": {
     "start_time": "2017-07-02T16:48:36.827Z"
    },
    "collapsed": false
   },
   "outputs": [],
   "source": [
    "cities = [\"Berlin\", \"Mosul\", \"London\", \"Chicago\", \"Tokyo\", \"Kabul\", \"Cape Town\", \"Mexico City\"]\n",
    "fig, axes = plt.subplots(len(cities), figsize=(15,24))\n",
    "\n",
    "for i, ax in enumerate(axes.flatten()):\n",
    "    plot_cutoffs_to_critical_reports(ax, cities[i], df, cutoffs=xrange(1, 101))\n",
    "\n",
    "plt.tight_layout()"
   ]
  },
  {
   "cell_type": "markdown",
   "metadata": {},
   "source": [
    "## Given these filter setttings:\n",
    "\n",
    "    3 minute resample rate\n",
    "    1 week mean and standard deviation window\n",
    "    Quadratic severity scoring\n",
    "    Mean + 1 STD as the anomaly threshold\n",
    "\n",
    "## 30 anomalous reports over the next 24 hours seems to be a reasonable cutoff for determining whether a report is critical or simply anomalous.\n",
    "\n",
    "# This cutoff must be tuned based off the specific settings of the filter layer. For example, increasing the threshold to mean + 2 * STD would require reducing the cutoff to ~10 anomalous reports over the next 24 hours. Precise tuning of the complete model will require cross-validation and grid search of BOTH layers simultaneously"
   ]
  },
  {
   "cell_type": "code",
   "execution_count": null,
   "metadata": {
    "collapsed": true
   },
   "outputs": [],
   "source": []
  }
 ],
 "metadata": {
  "kernelspec": {
   "display_name": "Python 2",
   "language": "python",
   "name": "python2"
  },
  "language_info": {
   "codemirror_mode": {
    "name": "ipython",
    "version": 2
   },
   "file_extension": ".py",
   "mimetype": "text/x-python",
   "name": "python",
   "nbconvert_exporter": "python",
   "pygments_lexer": "ipython2",
   "version": "2.7.13"
  }
 },
 "nbformat": 4,
 "nbformat_minor": 0
}
