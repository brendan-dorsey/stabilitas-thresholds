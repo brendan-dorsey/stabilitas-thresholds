{
 "cells": [
  {
   "cell_type": "markdown",
   "metadata": {},
   "source": [
    "# Qualitative Analysis of Critical and Predicted Critical Reports\n",
    "\n",
    "\n",
    "### Key Questions\n",
    "#### What kind of reports are being labeled critical?\n",
    "#### What kind of reports are generating False Negatives?\n",
    "#### What kind of reports are generating False Positives?"
   ]
  },
  {
   "cell_type": "code",
   "execution_count": 20,
   "metadata": {
    "ExecuteTime": {
     "end_time": "2017-07-11T12:45:30.887895Z",
     "start_time": "2017-07-11T12:45:30.867416Z"
    },
    "collapsed": true
   },
   "outputs": [],
   "source": [
    "import numpy as np\n",
    "import pandas as pd\n"
   ]
  },
  {
   "cell_type": "code",
   "execution_count": 22,
   "metadata": {
    "ExecuteTime": {
     "end_time": "2017-07-11T12:45:43.653777Z",
     "start_time": "2017-07-11T12:45:43.619796Z"
    },
    "collapsed": false
   },
   "outputs": [
    {
     "name": "stdout",
     "output_type": "stream",
     "text": [
      "<class 'pandas.core.frame.DataFrame'>\n",
      "RangeIndex: 4437 entries, 0 to 4436\n",
      "Data columns (total 4 columns):\n",
      "Unnamed: 0    4437 non-null int64\n",
      "title         4437 non-null object\n",
      "critical      4437 non-null float64\n",
      "predicted     4437 non-null int64\n",
      "dtypes: float64(1), int64(2), object(1)\n",
      "memory usage: 138.7+ KB\n",
      "None\n"
     ]
    }
   ],
   "source": [
    "df = pd.read_csv(\"critical_titles.csv\")\n",
    "print df.info()"
   ]
  },
  {
   "cell_type": "markdown",
   "metadata": {},
   "source": [
    "### What's being labeled critical?\n"
   ]
  },
  {
   "cell_type": "code",
   "execution_count": 23,
   "metadata": {
    "ExecuteTime": {
     "end_time": "2017-07-11T12:46:38.694440Z",
     "start_time": "2017-07-11T12:46:38.669610Z"
    },
    "collapsed": false
   },
   "outputs": [
    {
     "name": "stdout",
     "output_type": "stream",
     "text": [
      "- Escape from hell: Residents flee Aleppo as UN reports civilian slaughter\n",
      "- US Issued Warning Over Possible ISIS Attacks on Christmas Markets\n",
      "- Executions reported as Aleppo battle nears end\n",
      "- 2 Brothers Arrested in Germany Are Accused of Planning an Attack\n",
      "- The Latest: Malta TV: Hijackers threaten to blow up plane\n",
      "- President launches 30 new Navy vessels\n",
      "- Obama: President without briefings 'flying blind'\n",
      "- Hundreds protest Aleppo massacre in London, New York\n",
      "- Militants Lose Control in Aleppo, Seize 2% Only\n",
      "- The Latest: Russia says 1,000 evacuated from Syria's Aleppo\n",
      "- Car bomb kills 13 Turkish commandos, army says\n",
      "- Evacuation of rebel Aleppo enters second day\n",
      "- Border Patrol officers discover $3.25M worth of weed in shipment of strawberry jam\n",
      "- Residents board buses in eastern Aleppo as evacuation begins\n",
      "- Slovakia to Send Humanitarian Aid for Aleppo Residents on Wednesday\n",
      "- Protesters gather against atrocity as battle for Aleppo ends\n",
      "- Donald Trump will be BLAMED if the US is hit by terror attack, former CIA chief claims\n",
      "- Kerry says US is working with opposition groups that sabotage intra-Syrian talks\n",
      "- World: Aleppo evacuation mission under way after convoy attacked\n",
      "- China holds first live-fire drills with aircraft carrier, warships\n",
      "- Aleppo evacuation suspended: Syria security source\n",
      "- Donald Trump Electoral College Milestone Overshadowed By Berlin Truck Slaughter, Russian Ambassador Assassination – Update\n",
      "- Israel blasts US over UN vote on settlements\n",
      "- Syrian TV, Rebels Trade Blame Amid Halted Aleppo Evacuation\n",
      "- The Latest: Russia says Syrian rebels broke cease-fire deal\n",
      "- Security Council meeting on anti-settlement resolution, with US veto in doubt\n",
      "- Council freezes demolition on 303 buildings in downtown Toronto\n",
      "- Claim ISIS behind Berlin market attack\n",
      "- Syrian refugees protest at Russian consulate in Greek city\n",
      "- China seizes US underwater drone in South China Sea\n"
     ]
    }
   ],
   "source": [
    "crit_df = df[df[\"critical\"] == 1]\n",
    "for title in crit_df[\"title\"].sample(30).values:\n",
    "    print \"- \" + title"
   ]
  },
  {
   "cell_type": "markdown",
   "metadata": {},
   "source": [
    "Events that are particularly severe or events that have global or near-global impact seem to be those labeled critical. This makes sense, as these are the types of events that draw considerable media attention. However, there do seem to be some that only correlate to subsequent anomalies through chance, and that not all of these reports have a causative impact on subsequent anomalously high reporting."
   ]
  },
  {
   "cell_type": "markdown",
   "metadata": {},
   "source": [
    "### What's generating False Negatives?"
   ]
  },
  {
   "cell_type": "code",
   "execution_count": 24,
   "metadata": {
    "ExecuteTime": {
     "end_time": "2017-07-11T12:46:58.346260Z",
     "start_time": "2017-07-11T12:46:58.318003Z"
    },
    "collapsed": false
   },
   "outputs": [
    {
     "name": "stdout",
     "output_type": "stream",
     "text": [
      "844 false negatives in total\n",
      "\n",
      "- Woman dies after found shot in head on I-55\n",
      "- Tsunami alert after 7.9-magnitude PNG quake: USGS/PTWC\n",
      "- Malta flight hijackers leave the plane along with the crew as airport drama ends peacefully\n",
      "- Germany: 12 Killed After Truck Plows Through Christmas Market\n",
      "- US, UK coordinate Saudi attacks in Yemen: Analyst\n",
      "- Thirteen Turkish soldiers killed, 48 wounded in car bomb attack\n",
      "- Jihadis 'hiding in plain sight' among migrants, says Armed Forces chief: Sir Stuart Peach also warns terrorists are 'popping up all over the world' as propaganda spreads on ...\n",
      "- Third Alleged Hacker Arrested in Chase Breach\n",
      "- The Polish driver whose truck was used in Berlin attack was last heard from 4 hours before the massacre\n",
      "- The Latest: Tanker skids off highway, explodes in Baltimore\n",
      "- Police raid multiple properties across Melbourne - with police refusing to comment for 'due to ...\n",
      "- Carrie Fisher suffers cardiac arrest on plane, taken to LA-area hospital\n",
      "- Palestinian arrested over alleged contact with Hamas chief\n",
      "- Car bomb kills 13 Turkish soldiers on bus; 7 suspects held\n",
      "- Russian envoy assassinated: A history of diplomats who have been targeted\n",
      "- 9 Dead After Truck Crashes Into German Christmas Market\n",
      "- Hospital bosses reopen all wards as investigation into toxic fuel spill gets underway\n",
      "- Berlin truck crash death toll rises to 12, scores injured\n",
      "- Will soon name new Army and IAF chiefs: Parrikar\n",
      "- 'Hijackers threatening to blow up' passenger plane with 118 people on board in Malta\n",
      "- The United States is helping train Iraqi militias historically tied to Iran\n",
      "- Philippines President Duterte should be impeached after confessing he killed suspects – senators\n",
      "- Truck runs into Berlin market killing 9; Crash investigated as act of terrorism\n",
      "- Powerful earthquake hits off Papua New Guinea\n",
      "- Germany frees man arrested in deadly Christmas market attack\n",
      "- Dozens injured after explosion at fireworks market near Mexico City\n",
      "- When SWAT Raids Are Routine\n",
      "- Tsunami alert issued after 7.9-magnitude earthquake off coast of Papua New Guinea\n",
      "- Several wounded in car bombing in central Turkish city\n",
      "- UPDATE2: Car bomb attack in Turkey kills 13 soldiers, injures 55\n"
     ]
    }
   ],
   "source": [
    "fn_df = df[ (df[\"critical\"] == 1) & (df[\"predicted\"] == 0) ]\n",
    "print \"{} false negatives in total\".format(len(fn_df))\n",
    "print \"\"\n",
    "for title in fn_df[\"title\"].sample(30).values:\n",
    "    print \"- \" + title"
   ]
  },
  {
   "cell_type": "markdown",
   "metadata": {},
   "source": [
    "Again, there seem to be some examples that don't have a logical causal link to increased reporting. However, there are many of these that are clearly serious but are still mislabelled. This might be due to the short length of the titles, or perhaps the similarity of many risk reports. "
   ]
  },
  {
   "cell_type": "markdown",
   "metadata": {},
   "source": [
    "### What's generating False Positives?"
   ]
  },
  {
   "cell_type": "code",
   "execution_count": 25,
   "metadata": {
    "ExecuteTime": {
     "end_time": "2017-07-11T12:47:49.399647Z",
     "start_time": "2017-07-11T12:47:49.370575Z"
    },
    "collapsed": false
   },
   "outputs": [
    {
     "name": "stdout",
     "output_type": "stream",
     "text": [
      "1619 false positives in total\n",
      "\n",
      "- Turkish FM says Aleppo evac still underway\n",
      "- U.N. Security Council calls for Aleppo evacuation monitoring| Reuters\n",
      "- Flight diverted to New York's JFK airport due to bomb threat\n",
      "- Germany: Boy held for Christmas market bomb plot\n",
      "- Islamic State Releases Video Showing Turkish Soldiers Being Burned Alive\n",
      "- Russia 'complicit in war crimes,' Syrian organizations tell UN\n",
      "- Police drones, not helicopters, could one day patrol Tucson skies\n",
      "- Russia: Loss of Iranian nuclear deal would be 'unforgivable'\n",
      "- Car driver injured in highway collision with state snowplow\n",
      "- Super Typhoon Nock-ten to threaten lives, property in Philippines on Christmas\n",
      "- China's northernmost province to hold Ice and Snow Day\n",
      "- Japan seeks pressure on NKorea for abductions issue\n",
      "- Syria hands over evidence of mustard gas attack by rebels on civilians to OPCW (VIDEO)\n",
      "- Typhoon killes four, disrupts holiday celebrations in Philippines\n",
      "- Turkish officials identify assailant who shot Russian ambassador as off-duty riot policeman\n",
      "- People burning personal possessions ahead of Aleppo evacuation - witness\n",
      "- World › After Berlin attack, Europe weighs freedom against security\n",
      "- Turkish economy contracts amid instability\n",
      "- Nurses union calls off strike, signs pact with governors\n",
      "- United Nations condemns killing of Russian ambassador to Turkey\n",
      "- Trump cruises to Electoral College victory despite protests\n",
      "- Egypt Denounces IS Group Bomb Attack in Yemen’s Aden\n",
      "- 88 dead in Turkish raids on IS-held Syria town: Monitor\n",
      "- EXCLUSIVE: Algerian al-Qaeda boss seriously wounded but still alive\n",
      "- Canadian tourist among 10 dead in Jordan attacks\n",
      "- VIDEO: Iraqi Forces Hunt down ISIS Terrorists Trying to Escape to Syria\n",
      "- Berlin Attack Suspect Killed In Shootout In Milan: Real-Time Updates\n",
      "- Russian ambassador to Turkey shot, gunman reportedly killed\n",
      "- Efforts underway to evacuate Aleppo\n",
      "- Turkish police briefly detain pro-Kurdish party lawmaker\n"
     ]
    }
   ],
   "source": [
    "fp_df = df[ (df[\"critical\"] == 0) & (df[\"predicted\"] == 1) ]\n",
    "print \"{} false positives in total\".format(len(fp_df))\n",
    "print \"\"\n",
    "for title in fp_df[\"title\"].sample(30).values:\n",
    "    print \"- \" + title"
   ]
  },
  {
   "cell_type": "markdown",
   "metadata": {},
   "source": [
    "These seem to be much more tied to geo-political events. It would be worth exploring how well a model performs when incorporating metadata like report type in the features."
   ]
  },
  {
   "cell_type": "code",
   "execution_count": null,
   "metadata": {
    "collapsed": true
   },
   "outputs": [],
   "source": []
  }
 ],
 "metadata": {
  "kernelspec": {
   "display_name": "Python 2",
   "language": "python",
   "name": "python2"
  },
  "language_info": {
   "codemirror_mode": {
    "name": "ipython",
    "version": 2
   },
   "file_extension": ".py",
   "mimetype": "text/x-python",
   "name": "python",
   "nbconvert_exporter": "python",
   "pygments_lexer": "ipython2",
   "version": "2.7.13"
  }
 },
 "nbformat": 4,
 "nbformat_minor": 0
}
