{
 "cells": [
  {
   "cell_type": "code",
   "execution_count": 1,
   "metadata": {
    "ExecuteTime": {
     "end_time": "2017-07-11T23:18:46.429608Z",
     "start_time": "2017-07-11T23:18:46.071126Z"
    },
    "collapsed": true
   },
   "outputs": [],
   "source": [
    "import pandas as pd\n",
    "import numpy as np\n",
    "import matplotlib.pyplot as plt\n",
    "plt.style.use(\"ggplot\")\n",
    "%matplotlib inline\n",
    "from sklearn.cluster import KMeans\n",
    "from sklearn.metrics import silhouette_score\n",
    "from sklearn.model_selection import train_test_split\n",
    "from haversine import haversine\n",
    "from itertools import izip\n",
    "import csv"
   ]
  },
  {
   "cell_type": "code",
   "execution_count": 2,
   "metadata": {
    "ExecuteTime": {
     "end_time": "2017-07-11T23:19:00.259377Z",
     "start_time": "2017-07-11T23:19:00.222440Z"
    },
    "collapsed": true
   },
   "outputs": [],
   "source": [
    "column_names = [\n",
    "    \"lat\", \n",
    "    \"lon\", \n",
    "    \"id\", \n",
    "    \"source_id\", \n",
    "    \"account_id\", \n",
    "    \"title\", \n",
    "    \"created_on\", \n",
    "    \"updated_on\", \n",
    "    \"start_ts\", \n",
    "    \"until_ts\",\n",
    "    \"report_type\",\n",
    "    \"notes\", \n",
    "    \"layer_id\",\n",
    "    \"severity\"\n",
    "]\n",
    "\n",
    "target_columns = [\n",
    "    \"lat\",\n",
    "    \"lon\",\n",
    "    \"id\",\n",
    "    \"title\",\n",
    "    \"start_ts\",\n",
    "    \"report_type\",\n",
    "]"
   ]
  },
  {
   "cell_type": "code",
   "execution_count": 3,
   "metadata": {
    "ExecuteTime": {
     "end_time": "2017-07-11T23:21:07.054928Z",
     "start_time": "2017-07-11T23:20:47.420628Z"
    },
    "collapsed": false
   },
   "outputs": [
    {
     "name": "stderr",
     "output_type": "stream",
     "text": [
      "/Users/brendandorsey/anaconda2/lib/python2.7/site-packages/IPython/core/interactiveshell.py:2723: DtypeWarning: Columns (6,7) have mixed types. Specify dtype option on import or set low_memory=False.\n",
      "  interactivity=interactivity, compiler=compiler, result=result)\n"
     ]
    },
    {
     "name": "stdout",
     "output_type": "stream",
     "text": [
      "<class 'pandas.core.frame.DataFrame'>\n",
      "Int64Index: 1377451 entries, 0 to 1767286\n",
      "Data columns (total 7 columns):\n",
      "lat            1377451 non-null float64\n",
      "lon            1377451 non-null float64\n",
      "id             1377451 non-null object\n",
      "title          1377451 non-null object\n",
      "start_ts       1377451 non-null datetime64[ns]\n",
      "report_type    1377451 non-null object\n",
      "severity       1377451 non-null object\n",
      "dtypes: datetime64[ns](1), float64(2), object(4)\n",
      "memory usage: 84.1+ MB\n",
      "None\n"
     ]
    }
   ],
   "source": [
    "data_filepath = \"../data/2016/all_2016.txt\"\n",
    "\n",
    "# Load sample dataset\n",
    "df = pd.read_table(data_filepath, header=None, names=column_names)\n",
    "\n",
    "# Drop rows with NaNs (this is admittedly ugly and the final model will be much more precise)\n",
    "df.dropna(axis=0, how=\"any\", inplace=True)\n",
    "\n",
    "# Drop columns we won't need\n",
    "df = df[target_columns]\n",
    "\n",
    "# Convert timestamps from Unix Epoch time to Date Time Groups\n",
    "df[\"start_ts\"] = pd.to_datetime(df[\"start_ts\"], unit=\"s\", errors=\"ignore\")\n",
    "\n",
    "# Build severity score columns\n",
    "# df[\"severity_score\"] = df[\"severity\"].map(severity_score)\n",
    "# df[\"severity_quadratic\"] = df[\"severity\"].map(severity_score_quadratic)\n",
    "# df[\"severity_log\"] = df[\"severity\"].map(severity_score_log)\n",
    "# df[\"severity_exp\"] = df[\"severity\"].map(severity_score_exp)\n",
    "\n",
    "# Trim reports from outside the specified date range\n",
    "start = pd.to_datetime(\"2016-01-01\")\n",
    "end = pd.to_datetime(\"2017-01-01\")\n",
    "df = df[df[\"start_ts\"] > start]\n",
    "df = df[df[\"start_ts\"] < end]\n",
    "\n",
    "print df.info()"
   ]
  },
  {
   "cell_type": "code",
   "execution_count": 4,
   "metadata": {
    "ExecuteTime": {
     "end_time": "2017-07-11T23:22:21.676185Z",
     "start_time": "2017-07-11T23:22:21.624266Z"
    },
    "collapsed": false
   },
   "outputs": [
    {
     "name": "stdout",
     "output_type": "stream",
     "text": [
      "<class 'pandas.core.frame.DataFrame'>\n",
      "RangeIndex: 1375 entries, 0 to 1374\n",
      "Data columns (total 4 columns):\n",
      "name            1375 non-null object\n",
      "latitude        1375 non-null float64\n",
      "longitude       1375 non-null float64\n",
      "country_code    1375 non-null object\n",
      "dtypes: float64(2), object(2)\n",
      "memory usage: 43.0+ KB\n",
      "None\n",
      "             name  latitude  longitude country_code\n",
      "0           Dubai  25.06570   55.17128           AE\n",
      "1         Sharjah  25.33737   55.41206           AE\n",
      "2          Al Ain  24.19167   55.76056           AE\n",
      "3       Abu Dhabi  24.46667   54.36667           AE\n",
      "4  Mazār-e Sharīf  36.70904   67.11087           AF\n"
     ]
    }
   ],
   "source": [
    "cities_df = pd.read_csv(\"../data/cities300000.csv\")\n",
    "\n",
    "print cities_df.info()\n",
    "print cities_df.head()"
   ]
  },
  {
   "cell_type": "code",
   "execution_count": 5,
   "metadata": {
    "ExecuteTime": {
     "end_time": "2017-07-11T23:22:42.635753Z",
     "start_time": "2017-07-11T23:22:42.273855Z"
    },
    "collapsed": true
   },
   "outputs": [],
   "source": [
    "df[\"lat_long\"] = zip(df[\"lat\"], df[\"lon\"])\n",
    "cities_df[\"lat_long\"] = zip(cities_df[\"latitude\"], cities_df[\"longitude\"])"
   ]
  },
  {
   "cell_type": "code",
   "execution_count": 6,
   "metadata": {
    "ExecuteTime": {
     "end_time": "2017-07-12T00:20:20.339750Z",
     "start_time": "2017-07-11T23:25:40.978091Z"
    },
    "collapsed": false
   },
   "outputs": [
    {
     "name": "stderr",
     "output_type": "stream",
     "text": [
      "/Users/brendandorsey/anaconda2/lib/python2.7/site-packages/ipykernel/__main__.py:8: DeprecationWarning: \n",
      ".ix is deprecated. Please use\n",
      ".loc for label based indexing or\n",
      ".iloc for positional indexing\n",
      "\n",
      "See the documentation here:\n",
      "http://pandas.pydata.org/pandas-docs/stable/indexing.html#deprecate_ix\n"
     ]
    }
   ],
   "source": [
    "city_label_indices = []\n",
    "for report in df[\"lat_long\"]:\n",
    "    distances = [haversine(report, city) for city in cities_df[\"lat_long\"]]\n",
    "    city_label_indices.append(np.argmin(distances))\n",
    "    \n",
    "city_labels = []\n",
    "for index in city_label_indices:\n",
    "    city_labels.append(cities_df.ix[index, \"name\"])\n",
    "    \n",
    "labels_df = pd.DataFrame(city_labels)\n",
    "labels_df.to_csv(\"../data/2016/2016_city_labels.csv\", header=False, mode=\"w\")"
   ]
  },
  {
   "cell_type": "code",
   "execution_count": null,
   "metadata": {
    "collapsed": true
   },
   "outputs": [],
   "source": []
  }
 ],
 "metadata": {
  "kernelspec": {
   "display_name": "Python 2",
   "language": "python",
   "name": "python2"
  },
  "language_info": {
   "codemirror_mode": {
    "name": "ipython",
    "version": 2
   },
   "file_extension": ".py",
   "mimetype": "text/x-python",
   "name": "python",
   "nbconvert_exporter": "python",
   "pygments_lexer": "ipython2",
   "version": "2.7.13"
  }
 },
 "nbformat": 4,
 "nbformat_minor": 0
}
